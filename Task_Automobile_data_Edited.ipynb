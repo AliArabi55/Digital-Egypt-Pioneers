{
  "nbformat": 4,
  "nbformat_minor": 0,
  "metadata": {
    "colab": {
      "provenance": [],
      "authorship_tag": "ABX9TyM+9YqKRpV7N1Gpc6iY5W6N",
      "include_colab_link": true
    },
    "kernelspec": {
      "name": "python3",
      "display_name": "Python 3"
    },
    "language_info": {
      "name": "python"
    }
  },
  "cells": [
    {
      "cell_type": "markdown",
      "metadata": {
        "id": "view-in-github",
        "colab_type": "text"
      },
      "source": [
        "<a href=\"https://colab.research.google.com/github/AliArabi55/Digital-Egypt-Pioneers/blob/colab/Task_Automobile_data_Edited.ipynb\" target=\"_parent\"><img src=\"https://colab.research.google.com/assets/colab-badge.svg\" alt=\"Open In Colab\"/></a>"
      ]
    },
    {
      "cell_type": "code",
      "execution_count": null,
      "metadata": {
        "id": "FOCNwDRsxjB7"
      },
      "outputs": [],
      "source": [
        "import pandas as pd\n",
        "\n",
        "# Load the data\n",
        "df = pd.read_csv(\"Automobile_data_Edited - Automobile_data_Edited.csv\")"
      ]
    },
    {
      "cell_type": "markdown",
      "source": [
        "# Exercise 1: Print the first and last five rows"
      ],
      "metadata": {
        "id": "yn0ggsSPydzm"
      }
    },
    {
      "cell_type": "code",
      "source": [
        "print(\"Exercise 1: First and last five rows\")\n",
        "print(df.head())\n",
        "print(df.tail())"
      ],
      "metadata": {
        "colab": {
          "base_uri": "https://localhost:8080/"
        },
        "id": "_39XlUcyxrLd",
        "outputId": "00142507-90f2-4005-9c96-801c74a02a6a"
      },
      "execution_count": null,
      "outputs": [
        {
          "output_type": "stream",
          "name": "stdout",
          "text": [
            "Exercise 1: First and last five rows\n",
            "   index      Company   body-style wheel-base  length engine-type  \\\n",
            "0      0  alfa-romero  convertible       88.6   168.8        dohc   \n",
            "1      1  alfa-romero  convertible       88.6   168.8        dohc   \n",
            "2      2  alfa-romero    hatchback       94.5   171.2        ohcv   \n",
            "3      3         audi        sedan       99.8   176.6         ohc   \n",
            "4      4         audi        sedan       99.4   176.6         ohc   \n",
            "\n",
            "  num-of-cylinders horsepower  average-mileage  price  \n",
            "0             four        111               21  13495  \n",
            "1             four        111               21  16500  \n",
            "2              six        154               19  16500  \n",
            "3             four        102               24  13950  \n",
            "4             five        115               18  17450  \n",
            "     index Company body-style wheel-base  length engine-type num-of-cylinders  \\\n",
            "200    200   volvo      sedan      109.1   188.8         ohc             four   \n",
            "201    201   volvo      sedan      109.1   188.8         ohc             four   \n",
            "202    202   volvo      sedan      109.1   188.8        ohcv              six   \n",
            "203    203   volvo        n.a      109.1   188.8         ohc              six   \n",
            "204    204   volvo      sedan      109.1   188.8         ohc             four   \n",
            "\n",
            "    horsepower  average-mileage  price  \n",
            "200        114               23  16845  \n",
            "201        160               19  19045  \n",
            "202        134               18  21485  \n",
            "203        106               26  22470  \n",
            "204        114               19  22625  \n"
          ]
        }
      ]
    },
    {
      "cell_type": "markdown",
      "source": [
        "# Exercise 2: Clean the dataset and update the CSV file"
      ],
      "metadata": {
        "id": "13JcuSjXygZ1"
      }
    },
    {
      "cell_type": "code",
      "source": [
        "print(\"Exercise 2: Clean the dataset\")\n",
        "df = df.replace(['?', 'n.a', 'NaN'], pd.NA)\n",
        "df.to_csv(\"Automobile_data_Edited - Automobile_data_Edited.csv\", index=False)"
      ],
      "metadata": {
        "colab": {
          "base_uri": "https://localhost:8080/"
        },
        "id": "mIfgrekaxti8",
        "outputId": "fc9351e2-1e09-4539-fbeb-de200888ae13"
      },
      "execution_count": null,
      "outputs": [
        {
          "output_type": "stream",
          "name": "stdout",
          "text": [
            "Exercise 2: Clean the dataset\n"
          ]
        }
      ]
    },
    {
      "cell_type": "markdown",
      "source": [],
      "metadata": {
        "id": "5j3sAc4oyizF"
      }
    },
    {
      "cell_type": "markdown",
      "source": [
        "# Exercise 3: Find the most expensive car company name\n"
      ],
      "metadata": {
        "id": "MHsOzDigylRU"
      }
    },
    {
      "cell_type": "code",
      "source": [
        "print(\"Exercise 3: Most expensive car\")\n",
        "\n",
        "df['price'] = pd.to_numeric(df['price'], errors='coerce')\n",
        "most_expensive_car = df[df['price'] == df['price'].max()]\n",
        "print(f\"Most expensive car's company: {most_expensive_car['Company'].iloc[0]}, price: {most_expensive_car['price'].iloc[0]}\")"
      ],
      "metadata": {
        "colab": {
          "base_uri": "https://localhost:8080/"
        },
        "id": "9UnPAfzbxvS8",
        "outputId": "15d28b3a-e4dd-49a4-8e07-66f11b0d7391"
      },
      "execution_count": null,
      "outputs": [
        {
          "output_type": "stream",
          "name": "stdout",
          "text": [
            "Exercise 3: Most expensive car\n",
            "Most expensive car's company: mercedes-benz, price: 45400.0\n"
          ]
        }
      ]
    },
    {
      "cell_type": "markdown",
      "source": [
        "# Exercise 4: Print All Toyota Cars details\n"
      ],
      "metadata": {
        "id": "QQc6Ew8oyo_D"
      }
    },
    {
      "cell_type": "code",
      "source": [
        "print(\"Exercise 4: All Toyota cars\")\n",
        "toyota_cars = df[df['Company'] == 'toyota']\n",
        "print(toyota_cars)"
      ],
      "metadata": {
        "colab": {
          "base_uri": "https://localhost:8080/"
        },
        "id": "k7vrJO5Cxwh0",
        "outputId": "735155df-3d1c-47a1-a2ea-8bca37ddb046"
      },
      "execution_count": null,
      "outputs": [
        {
          "output_type": "stream",
          "name": "stdout",
          "text": [
            "Exercise 4: All Toyota cars\n",
            "     index Company   body-style wheel-base  length engine-type  \\\n",
            "150    150  toyota    hatchback       95.7   158.7         ohc   \n",
            "151    151  toyota    hatchback       95.7   158.7         ohc   \n",
            "152    152  toyota    hatchback       95.7   158.7         ohc   \n",
            "153    153  toyota        wagon        NaN   169.7         ohc   \n",
            "154    154  toyota        wagon       95.7   169.7         ohc   \n",
            "155    155  toyota        wagon       95.7   169.7         ohc   \n",
            "156    156  toyota        sedan       95.7   166.3         ohc   \n",
            "157    157  toyota    hatchback       95.7   166.3         ohc   \n",
            "158    158  toyota        sedan       95.7   166.3         ohc   \n",
            "159    159  toyota    hatchback       95.7   166.3         ohc   \n",
            "160    160  toyota        sedan       95.7   166.3         ohc   \n",
            "161    161  toyota    hatchback       95.7   166.3        <NA>   \n",
            "162    162  toyota        sedan       95.7   166.3         ohc   \n",
            "163    163  toyota        sedan       94.5   168.7         ohc   \n",
            "164    164  toyota    hatchback       94.5   168.7         ohc   \n",
            "165    165  toyota        sedan       94.5   168.7        dohc   \n",
            "166    166  toyota    hatchback       94.5   168.7        dohc   \n",
            "167    167  toyota      hardtop       98.4   176.2         ohc   \n",
            "168    168  toyota      hardtop       98.4   176.2         ohc   \n",
            "169    169  toyota    hatchback       98.4   176.2         ohc   \n",
            "170    170  toyota      hardtop       98.4   176.2         ohc   \n",
            "171    171  toyota    hatchback       98.4   176.2         ohc   \n",
            "172    172  toyota  convertible       98.4   176.2         ohc   \n",
            "173    173  toyota        sedan      102.4   175.6         ohc   \n",
            "174    174  toyota        sedan      102.4   175.6         ohc   \n",
            "175    175  toyota    hatchback      102.4   175.6         ohc   \n",
            "176    176  toyota        sedan      102.4   175.6         ohc   \n",
            "177    177  toyota    hatchback      102.4   175.6         ohc   \n",
            "178    178  toyota    hatchback      102.9   183.5        <NA>   \n",
            "179    179  toyota    hatchback      102.9   183.5        dohc   \n",
            "180    180  toyota        sedan      104.5   187.8        dohc   \n",
            "181    181  toyota        wagon      104.5   187.8        dohc   \n",
            "\n",
            "    num-of-cylinders horsepower  average-mileage    price  \n",
            "150             four         62               35   5348.0  \n",
            "151             four        NaN               31   6338.0  \n",
            "152             four         62               31   6488.0  \n",
            "153             four         62               31   6918.0  \n",
            "154             four         62               27   7898.0  \n",
            "155             four         62               27   8778.0  \n",
            "156             four         70               30   6938.0  \n",
            "157             four         70               30   7198.0  \n",
            "158              NaN         56               34   7898.0  \n",
            "159             four         56               38   7788.0  \n",
            "160             four         70               38   7738.0  \n",
            "161             four         70               28   8358.0  \n",
            "162             four         70               28   9258.0  \n",
            "163             four         70               29   8058.0  \n",
            "164             four         70               29   8238.0  \n",
            "165             four        112               26   9298.0  \n",
            "166             four        112               26   9538.0  \n",
            "167             four        116               24   8449.0  \n",
            "168             four        116               24   9639.0  \n",
            "169             four        NaN               24   9989.0  \n",
            "170             four        116               24      NaN  \n",
            "171             four        116               24  11549.0  \n",
            "172             four        116               24  17669.0  \n",
            "173             four         92               29   8948.0  \n",
            "174             four         73               30  10698.0  \n",
            "175             four         92               27   9988.0  \n",
            "176             four         92               27  10898.0  \n",
            "177             four         92               27  11248.0  \n",
            "178              six        161               20  16558.0  \n",
            "179              six        161               19  15998.0  \n",
            "180              six        156               20  15690.0  \n",
            "181              six        156               19  15750.0  \n"
          ]
        }
      ]
    },
    {
      "cell_type": "markdown",
      "source": [
        "# Exercise 5: Count total cars per company\n"
      ],
      "metadata": {
        "id": "RiOM0qioyqdk"
      }
    },
    {
      "cell_type": "code",
      "source": [
        "print(\"Exercise 5: Total cars per company\")\n",
        "cars_per_company = df['Company'].value_counts()\n",
        "print(cars_per_company)"
      ],
      "metadata": {
        "colab": {
          "base_uri": "https://localhost:8080/"
        },
        "id": "WxEi5j8jxx2U",
        "outputId": "a3445618-a2fc-4ad2-8299-d7da4795188e"
      },
      "execution_count": null,
      "outputs": [
        {
          "output_type": "stream",
          "name": "stdout",
          "text": [
            "Exercise 5: Total cars per company\n",
            "Company\n",
            "toyota           32\n",
            "nissan           18\n",
            "mazda            17\n",
            "mitsubishi       13\n",
            "honda            13\n",
            "volkswagen       12\n",
            "subaru           12\n",
            "peugot           11\n",
            "volvo            11\n",
            "dodge             9\n",
            "mercedes-benz     8\n",
            "bmw               8\n",
            "audi              7\n",
            "plymouth          7\n",
            "saab              6\n",
            "porsche           5\n",
            "isuzu             4\n",
            "jaguar            3\n",
            "chevrolet         3\n",
            "alfa-romero       3\n",
            "renault           2\n",
            "mercury           1\n",
            "Name: count, dtype: int64\n"
          ]
        }
      ]
    },
    {
      "cell_type": "markdown",
      "source": [
        "# Exercise 6: Find each company’s highest price car\n"
      ],
      "metadata": {
        "id": "pWFcezkgyr0b"
      }
    },
    {
      "cell_type": "code",
      "source": [
        "print(\"Exercise 6: Highest price car per company\")\n",
        "highest_price_cars = df.groupby('Company')['price'].max()\n",
        "print(highest_price_cars)"
      ],
      "metadata": {
        "colab": {
          "base_uri": "https://localhost:8080/"
        },
        "id": "8UQ7lSQTxy6l",
        "outputId": "bc4552dd-73fb-42dc-f4b8-043cb0e3b01f"
      },
      "execution_count": null,
      "outputs": [
        {
          "output_type": "stream",
          "name": "stdout",
          "text": [
            "Exercise 6: Highest price car per company\n",
            "Company\n",
            "alfa-romero      16500.0\n",
            "audi             23875.0\n",
            "bmw              41315.0\n",
            "chevrolet         6575.0\n",
            "dodge            12964.0\n",
            "honda            12945.0\n",
            "isuzu            11048.0\n",
            "jaguar           36000.0\n",
            "mazda            18344.0\n",
            "mercedes-benz    45400.0\n",
            "mercury          16503.0\n",
            "mitsubishi       14869.0\n",
            "nissan           19699.0\n",
            "peugot           18150.0\n",
            "plymouth         12764.0\n",
            "porsche          37028.0\n",
            "renault           9895.0\n",
            "saab             18620.0\n",
            "subaru           11694.0\n",
            "toyota           17669.0\n",
            "volkswagen       13845.0\n",
            "volvo            22625.0\n",
            "Name: price, dtype: float64\n"
          ]
        }
      ]
    },
    {
      "cell_type": "markdown",
      "source": [
        "# Exercise 7: Find the average mileage of each car making company\n"
      ],
      "metadata": {
        "id": "45_3L0YTyt9M"
      }
    },
    {
      "cell_type": "code",
      "source": [
        "print(\"Exercise 7: Average mileage per company\")\n",
        "average_mileage_per_company = df.groupby('Company')['average-mileage'].mean()\n",
        "print(average_mileage_per_company)"
      ],
      "metadata": {
        "colab": {
          "base_uri": "https://localhost:8080/"
        },
        "id": "mz8Ipz9Uxz3k",
        "outputId": "4e0fe175-952b-4e34-e1b6-baa6ef0e4653"
      },
      "execution_count": null,
      "outputs": [
        {
          "output_type": "stream",
          "name": "stdout",
          "text": [
            "Exercise 7: Average mileage per company\n",
            "Company\n",
            "alfa-romero      20.333333\n",
            "audi             18.857143\n",
            "bmw              19.375000\n",
            "chevrolet        41.000000\n",
            "dodge            28.000000\n",
            "honda            30.384615\n",
            "isuzu            31.000000\n",
            "jaguar           14.333333\n",
            "mazda            25.705882\n",
            "mercedes-benz    18.500000\n",
            "mercury          19.000000\n",
            "mitsubishi       24.923077\n",
            "nissan           27.000000\n",
            "peugot           22.454545\n",
            "plymouth         28.142857\n",
            "porsche          17.400000\n",
            "renault          23.000000\n",
            "saab             20.333333\n",
            "subaru           26.333333\n",
            "toyota           27.500000\n",
            "volkswagen       28.583333\n",
            "volvo            21.181818\n",
            "Name: average-mileage, dtype: float64\n"
          ]
        }
      ]
    },
    {
      "cell_type": "markdown",
      "source": [
        "# Exercise 8: Sort all cars by Price column\n"
      ],
      "metadata": {
        "id": "5ZJ9rsv_yvVP"
      }
    },
    {
      "cell_type": "code",
      "source": [
        "print(\"Exercise 8: Cars sorted by price\")\n",
        "cars_sorted_by_price = df.sort_values(by='price')\n",
        "print(cars_sorted_by_price)"
      ],
      "metadata": {
        "colab": {
          "base_uri": "https://localhost:8080/"
        },
        "id": "vmAVUs1Px020",
        "outputId": "bc14e05e-cc3f-4fed-d059-d4685e2eea33"
      },
      "execution_count": null,
      "outputs": [
        {
          "output_type": "stream",
          "name": "stdout",
          "text": [
            "Exercise 8: Cars sorted by price\n",
            "     index     Company body-style wheel-base  length engine-type  \\\n",
            "138    138      subaru  hatchback       93.7   156.9        ohcf   \n",
            "18      18   chevrolet  hatchback       88.4   141.1           l   \n",
            "50      50       mazda  hatchback       93.1   159.1         ohc   \n",
            "150    150      toyota  hatchback       95.7   158.7         ohc   \n",
            "76      76  mitsubishi  hatchback       93.7   157.3         ohc   \n",
            "..     ...         ...        ...        ...     ...         ...   \n",
            "126    126     porsche    hardtop       89.5   168.9        ohcf   \n",
            "129    129     porsche       <NA>       98.4   175.7       dohcv   \n",
            "146    146      subaru      wagon         97   173.5        ohcf   \n",
            "170    170      toyota    hardtop       98.4   176.2         ohc   \n",
            "186    186  volkswagen      sedan       97.3   171.7         ohc   \n",
            "\n",
            "    num-of-cylinders horsepower  average-mileage   price  \n",
            "138             four         69               31  5118.0  \n",
            "18             three         48               47  5151.0  \n",
            "50              four         68               30  5195.0  \n",
            "150             four         62               35  5348.0  \n",
            "76              four         68               37  5389.0  \n",
            "..               ...        ...              ...     ...  \n",
            "126              six        207               17     NaN  \n",
            "129            eight        288               17     NaN  \n",
            "146             four         82               28     NaN  \n",
            "170             four        116               24     NaN  \n",
            "186             four         85               27     NaN  \n",
            "\n",
            "[205 rows x 10 columns]\n"
          ]
        }
      ]
    }
  ]
}