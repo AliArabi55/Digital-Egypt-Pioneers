{
  "nbformat": 4,
  "nbformat_minor": 0,
  "metadata": {
    "colab": {
      "provenance": [],
      "authorship_tag": "ABX9TyNWdXY1axeYX9U1TYLEoTv5",
      "include_colab_link": true
    },
    "kernelspec": {
      "name": "python3",
      "display_name": "Python 3"
    },
    "language_info": {
      "name": "python"
    }
  },
  "cells": [
    {
      "cell_type": "markdown",
      "metadata": {
        "id": "view-in-github",
        "colab_type": "text"
      },
      "source": [
        "<a href=\"https://colab.research.google.com/github/AliArabi55/Digital-Egypt-Pioneers/blob/colab/project22.ipynb\" target=\"_parent\"><img src=\"https://colab.research.google.com/assets/colab-badge.svg\" alt=\"Open In Colab\"/></a>"
      ]
    },
    {
      "cell_type": "code",
      "source": [
        "import pandas as pd\n",
        "\n",
        "# Load the data\n",
        "data = pd.read_csv('googleplaystore - googleplaystore.csv')\n",
        "\n",
        "# Print the original data\n",
        "print(\"Original Data:\")\n",
        "data.head(10) # Change df to data"
      ],
      "metadata": {
        "colab": {
          "base_uri": "https://localhost:8080/",
          "height": 921
        },
        "id": "lm3ssyvvjScv",
        "outputId": "b20579a6-e8a7-4d53-82cf-27edb9405fa6"
      },
      "execution_count": 5,
      "outputs": [
        {
          "output_type": "stream",
          "name": "stdout",
          "text": [
            "Original Data:\n"
          ]
        },
        {
          "output_type": "execute_result",
          "data": {
            "text/plain": [
              "                                                 App        Category  Rating  \\\n",
              "0     Photo Editor & Candy Camera & Grid & ScrapBook  ART_AND_DESIGN     4.1   \n",
              "1                                Coloring book moana  ART_AND_DESIGN     3.9   \n",
              "2  U Launcher Lite – FREE Live Cool Themes, Hide ...  ART_AND_DESIGN     4.7   \n",
              "3                              Sketch - Draw & Paint  ART_AND_DESIGN     4.5   \n",
              "4              Pixel Draw - Number Art Coloring Book  ART_AND_DESIGN     4.3   \n",
              "5                         Paper flowers instructions  ART_AND_DESIGN     4.4   \n",
              "6            Smoke Effect Photo Maker - Smoke Editor  ART_AND_DESIGN     3.8   \n",
              "7                                   Infinite Painter  ART_AND_DESIGN     4.1   \n",
              "8                               Garden Coloring Book  ART_AND_DESIGN     4.4   \n",
              "9                      Kids Paint Free - Drawing Fun  ART_AND_DESIGN     4.7   \n",
              "\n",
              "  Reviews  Size     Installs  Type Price Content Rating  \\\n",
              "0     159   19M      10,000+  Free     0       Everyone   \n",
              "1     967   14M     500,000+  Free     0       Everyone   \n",
              "2   87510  8.7M   5,000,000+  Free     0       Everyone   \n",
              "3  215644   25M  50,000,000+  Free     0           Teen   \n",
              "4     967  2.8M     100,000+  Free     0       Everyone   \n",
              "5     167  5.6M      50,000+  Free     0       Everyone   \n",
              "6     178   19M      50,000+  Free     0       Everyone   \n",
              "7   36815   29M   1,000,000+  Free     0       Everyone   \n",
              "8   13791   33M   1,000,000+  Free     0       Everyone   \n",
              "9     121  3.1M      10,000+  Free     0       Everyone   \n",
              "\n",
              "                      Genres        Last Updated         Current Ver  \\\n",
              "0               Art & Design     January 7, 2018               1.0.0   \n",
              "1  Art & Design;Pretend Play    January 15, 2018               2.0.0   \n",
              "2               Art & Design      August 1, 2018            2001.2.4   \n",
              "3               Art & Design        June 8, 2018  Varies with device   \n",
              "4    Art & Design;Creativity       June 20, 2018                 1.1   \n",
              "5               Art & Design      March 26, 2017                 1.0   \n",
              "6               Art & Design      April 26, 2018                 1.1   \n",
              "7               Art & Design       June 14, 2018            6.1.61.1   \n",
              "8               Art & Design  September 20, 2017            2002.9.2   \n",
              "9    Art & Design;Creativity        July 3, 2018                 2.8   \n",
              "\n",
              "    Android Ver  \n",
              "0  4.0.3 and up  \n",
              "1  4.0.3 and up  \n",
              "2  4.0.3 and up  \n",
              "3    4.2 and up  \n",
              "4    4.4 and up  \n",
              "5    2.3 and up  \n",
              "6  4.0.3 and up  \n",
              "7    4.2 and up  \n",
              "8    3.0 and up  \n",
              "9  4.0.3 and up  "
            ],
            "text/html": [
              "\n",
              "  <div id=\"df-814f3a92-2a02-4e7a-ad68-812decee48cd\" class=\"colab-df-container\">\n",
              "    <div>\n",
              "<style scoped>\n",
              "    .dataframe tbody tr th:only-of-type {\n",
              "        vertical-align: middle;\n",
              "    }\n",
              "\n",
              "    .dataframe tbody tr th {\n",
              "        vertical-align: top;\n",
              "    }\n",
              "\n",
              "    .dataframe thead th {\n",
              "        text-align: right;\n",
              "    }\n",
              "</style>\n",
              "<table border=\"1\" class=\"dataframe\">\n",
              "  <thead>\n",
              "    <tr style=\"text-align: right;\">\n",
              "      <th></th>\n",
              "      <th>App</th>\n",
              "      <th>Category</th>\n",
              "      <th>Rating</th>\n",
              "      <th>Reviews</th>\n",
              "      <th>Size</th>\n",
              "      <th>Installs</th>\n",
              "      <th>Type</th>\n",
              "      <th>Price</th>\n",
              "      <th>Content Rating</th>\n",
              "      <th>Genres</th>\n",
              "      <th>Last Updated</th>\n",
              "      <th>Current Ver</th>\n",
              "      <th>Android Ver</th>\n",
              "    </tr>\n",
              "  </thead>\n",
              "  <tbody>\n",
              "    <tr>\n",
              "      <th>0</th>\n",
              "      <td>Photo Editor &amp; Candy Camera &amp; Grid &amp; ScrapBook</td>\n",
              "      <td>ART_AND_DESIGN</td>\n",
              "      <td>4.1</td>\n",
              "      <td>159</td>\n",
              "      <td>19M</td>\n",
              "      <td>10,000+</td>\n",
              "      <td>Free</td>\n",
              "      <td>0</td>\n",
              "      <td>Everyone</td>\n",
              "      <td>Art &amp; Design</td>\n",
              "      <td>January 7, 2018</td>\n",
              "      <td>1.0.0</td>\n",
              "      <td>4.0.3 and up</td>\n",
              "    </tr>\n",
              "    <tr>\n",
              "      <th>1</th>\n",
              "      <td>Coloring book moana</td>\n",
              "      <td>ART_AND_DESIGN</td>\n",
              "      <td>3.9</td>\n",
              "      <td>967</td>\n",
              "      <td>14M</td>\n",
              "      <td>500,000+</td>\n",
              "      <td>Free</td>\n",
              "      <td>0</td>\n",
              "      <td>Everyone</td>\n",
              "      <td>Art &amp; Design;Pretend Play</td>\n",
              "      <td>January 15, 2018</td>\n",
              "      <td>2.0.0</td>\n",
              "      <td>4.0.3 and up</td>\n",
              "    </tr>\n",
              "    <tr>\n",
              "      <th>2</th>\n",
              "      <td>U Launcher Lite – FREE Live Cool Themes, Hide ...</td>\n",
              "      <td>ART_AND_DESIGN</td>\n",
              "      <td>4.7</td>\n",
              "      <td>87510</td>\n",
              "      <td>8.7M</td>\n",
              "      <td>5,000,000+</td>\n",
              "      <td>Free</td>\n",
              "      <td>0</td>\n",
              "      <td>Everyone</td>\n",
              "      <td>Art &amp; Design</td>\n",
              "      <td>August 1, 2018</td>\n",
              "      <td>2001.2.4</td>\n",
              "      <td>4.0.3 and up</td>\n",
              "    </tr>\n",
              "    <tr>\n",
              "      <th>3</th>\n",
              "      <td>Sketch - Draw &amp; Paint</td>\n",
              "      <td>ART_AND_DESIGN</td>\n",
              "      <td>4.5</td>\n",
              "      <td>215644</td>\n",
              "      <td>25M</td>\n",
              "      <td>50,000,000+</td>\n",
              "      <td>Free</td>\n",
              "      <td>0</td>\n",
              "      <td>Teen</td>\n",
              "      <td>Art &amp; Design</td>\n",
              "      <td>June 8, 2018</td>\n",
              "      <td>Varies with device</td>\n",
              "      <td>4.2 and up</td>\n",
              "    </tr>\n",
              "    <tr>\n",
              "      <th>4</th>\n",
              "      <td>Pixel Draw - Number Art Coloring Book</td>\n",
              "      <td>ART_AND_DESIGN</td>\n",
              "      <td>4.3</td>\n",
              "      <td>967</td>\n",
              "      <td>2.8M</td>\n",
              "      <td>100,000+</td>\n",
              "      <td>Free</td>\n",
              "      <td>0</td>\n",
              "      <td>Everyone</td>\n",
              "      <td>Art &amp; Design;Creativity</td>\n",
              "      <td>June 20, 2018</td>\n",
              "      <td>1.1</td>\n",
              "      <td>4.4 and up</td>\n",
              "    </tr>\n",
              "    <tr>\n",
              "      <th>5</th>\n",
              "      <td>Paper flowers instructions</td>\n",
              "      <td>ART_AND_DESIGN</td>\n",
              "      <td>4.4</td>\n",
              "      <td>167</td>\n",
              "      <td>5.6M</td>\n",
              "      <td>50,000+</td>\n",
              "      <td>Free</td>\n",
              "      <td>0</td>\n",
              "      <td>Everyone</td>\n",
              "      <td>Art &amp; Design</td>\n",
              "      <td>March 26, 2017</td>\n",
              "      <td>1.0</td>\n",
              "      <td>2.3 and up</td>\n",
              "    </tr>\n",
              "    <tr>\n",
              "      <th>6</th>\n",
              "      <td>Smoke Effect Photo Maker - Smoke Editor</td>\n",
              "      <td>ART_AND_DESIGN</td>\n",
              "      <td>3.8</td>\n",
              "      <td>178</td>\n",
              "      <td>19M</td>\n",
              "      <td>50,000+</td>\n",
              "      <td>Free</td>\n",
              "      <td>0</td>\n",
              "      <td>Everyone</td>\n",
              "      <td>Art &amp; Design</td>\n",
              "      <td>April 26, 2018</td>\n",
              "      <td>1.1</td>\n",
              "      <td>4.0.3 and up</td>\n",
              "    </tr>\n",
              "    <tr>\n",
              "      <th>7</th>\n",
              "      <td>Infinite Painter</td>\n",
              "      <td>ART_AND_DESIGN</td>\n",
              "      <td>4.1</td>\n",
              "      <td>36815</td>\n",
              "      <td>29M</td>\n",
              "      <td>1,000,000+</td>\n",
              "      <td>Free</td>\n",
              "      <td>0</td>\n",
              "      <td>Everyone</td>\n",
              "      <td>Art &amp; Design</td>\n",
              "      <td>June 14, 2018</td>\n",
              "      <td>6.1.61.1</td>\n",
              "      <td>4.2 and up</td>\n",
              "    </tr>\n",
              "    <tr>\n",
              "      <th>8</th>\n",
              "      <td>Garden Coloring Book</td>\n",
              "      <td>ART_AND_DESIGN</td>\n",
              "      <td>4.4</td>\n",
              "      <td>13791</td>\n",
              "      <td>33M</td>\n",
              "      <td>1,000,000+</td>\n",
              "      <td>Free</td>\n",
              "      <td>0</td>\n",
              "      <td>Everyone</td>\n",
              "      <td>Art &amp; Design</td>\n",
              "      <td>September 20, 2017</td>\n",
              "      <td>2002.9.2</td>\n",
              "      <td>3.0 and up</td>\n",
              "    </tr>\n",
              "    <tr>\n",
              "      <th>9</th>\n",
              "      <td>Kids Paint Free - Drawing Fun</td>\n",
              "      <td>ART_AND_DESIGN</td>\n",
              "      <td>4.7</td>\n",
              "      <td>121</td>\n",
              "      <td>3.1M</td>\n",
              "      <td>10,000+</td>\n",
              "      <td>Free</td>\n",
              "      <td>0</td>\n",
              "      <td>Everyone</td>\n",
              "      <td>Art &amp; Design;Creativity</td>\n",
              "      <td>July 3, 2018</td>\n",
              "      <td>2.8</td>\n",
              "      <td>4.0.3 and up</td>\n",
              "    </tr>\n",
              "  </tbody>\n",
              "</table>\n",
              "</div>\n",
              "    <div class=\"colab-df-buttons\">\n",
              "\n",
              "  <div class=\"colab-df-container\">\n",
              "    <button class=\"colab-df-convert\" onclick=\"convertToInteractive('df-814f3a92-2a02-4e7a-ad68-812decee48cd')\"\n",
              "            title=\"Convert this dataframe to an interactive table.\"\n",
              "            style=\"display:none;\">\n",
              "\n",
              "  <svg xmlns=\"http://www.w3.org/2000/svg\" height=\"24px\" viewBox=\"0 -960 960 960\">\n",
              "    <path d=\"M120-120v-720h720v720H120Zm60-500h600v-160H180v160Zm220 220h160v-160H400v160Zm0 220h160v-160H400v160ZM180-400h160v-160H180v160Zm440 0h160v-160H620v160ZM180-180h160v-160H180v160Zm440 0h160v-160H620v160Z\"/>\n",
              "  </svg>\n",
              "    </button>\n",
              "\n",
              "  <style>\n",
              "    .colab-df-container {\n",
              "      display:flex;\n",
              "      gap: 12px;\n",
              "    }\n",
              "\n",
              "    .colab-df-convert {\n",
              "      background-color: #E8F0FE;\n",
              "      border: none;\n",
              "      border-radius: 50%;\n",
              "      cursor: pointer;\n",
              "      display: none;\n",
              "      fill: #1967D2;\n",
              "      height: 32px;\n",
              "      padding: 0 0 0 0;\n",
              "      width: 32px;\n",
              "    }\n",
              "\n",
              "    .colab-df-convert:hover {\n",
              "      background-color: #E2EBFA;\n",
              "      box-shadow: 0px 1px 2px rgba(60, 64, 67, 0.3), 0px 1px 3px 1px rgba(60, 64, 67, 0.15);\n",
              "      fill: #174EA6;\n",
              "    }\n",
              "\n",
              "    .colab-df-buttons div {\n",
              "      margin-bottom: 4px;\n",
              "    }\n",
              "\n",
              "    [theme=dark] .colab-df-convert {\n",
              "      background-color: #3B4455;\n",
              "      fill: #D2E3FC;\n",
              "    }\n",
              "\n",
              "    [theme=dark] .colab-df-convert:hover {\n",
              "      background-color: #434B5C;\n",
              "      box-shadow: 0px 1px 3px 1px rgba(0, 0, 0, 0.15);\n",
              "      filter: drop-shadow(0px 1px 2px rgba(0, 0, 0, 0.3));\n",
              "      fill: #FFFFFF;\n",
              "    }\n",
              "  </style>\n",
              "\n",
              "    <script>\n",
              "      const buttonEl =\n",
              "        document.querySelector('#df-814f3a92-2a02-4e7a-ad68-812decee48cd button.colab-df-convert');\n",
              "      buttonEl.style.display =\n",
              "        google.colab.kernel.accessAllowed ? 'block' : 'none';\n",
              "\n",
              "      async function convertToInteractive(key) {\n",
              "        const element = document.querySelector('#df-814f3a92-2a02-4e7a-ad68-812decee48cd');\n",
              "        const dataTable =\n",
              "          await google.colab.kernel.invokeFunction('convertToInteractive',\n",
              "                                                    [key], {});\n",
              "        if (!dataTable) return;\n",
              "\n",
              "        const docLinkHtml = 'Like what you see? Visit the ' +\n",
              "          '<a target=\"_blank\" href=https://colab.research.google.com/notebooks/data_table.ipynb>data table notebook</a>'\n",
              "          + ' to learn more about interactive tables.';\n",
              "        element.innerHTML = '';\n",
              "        dataTable['output_type'] = 'display_data';\n",
              "        await google.colab.output.renderOutput(dataTable, element);\n",
              "        const docLink = document.createElement('div');\n",
              "        docLink.innerHTML = docLinkHtml;\n",
              "        element.appendChild(docLink);\n",
              "      }\n",
              "    </script>\n",
              "  </div>\n",
              "\n",
              "\n",
              "<div id=\"df-1ca33393-c032-4c0e-8673-0cd56eaaf94d\">\n",
              "  <button class=\"colab-df-quickchart\" onclick=\"quickchart('df-1ca33393-c032-4c0e-8673-0cd56eaaf94d')\"\n",
              "            title=\"Suggest charts\"\n",
              "            style=\"display:none;\">\n",
              "\n",
              "<svg xmlns=\"http://www.w3.org/2000/svg\" height=\"24px\"viewBox=\"0 0 24 24\"\n",
              "     width=\"24px\">\n",
              "    <g>\n",
              "        <path d=\"M19 3H5c-1.1 0-2 .9-2 2v14c0 1.1.9 2 2 2h14c1.1 0 2-.9 2-2V5c0-1.1-.9-2-2-2zM9 17H7v-7h2v7zm4 0h-2V7h2v10zm4 0h-2v-4h2v4z\"/>\n",
              "    </g>\n",
              "</svg>\n",
              "  </button>\n",
              "\n",
              "<style>\n",
              "  .colab-df-quickchart {\n",
              "      --bg-color: #E8F0FE;\n",
              "      --fill-color: #1967D2;\n",
              "      --hover-bg-color: #E2EBFA;\n",
              "      --hover-fill-color: #174EA6;\n",
              "      --disabled-fill-color: #AAA;\n",
              "      --disabled-bg-color: #DDD;\n",
              "  }\n",
              "\n",
              "  [theme=dark] .colab-df-quickchart {\n",
              "      --bg-color: #3B4455;\n",
              "      --fill-color: #D2E3FC;\n",
              "      --hover-bg-color: #434B5C;\n",
              "      --hover-fill-color: #FFFFFF;\n",
              "      --disabled-bg-color: #3B4455;\n",
              "      --disabled-fill-color: #666;\n",
              "  }\n",
              "\n",
              "  .colab-df-quickchart {\n",
              "    background-color: var(--bg-color);\n",
              "    border: none;\n",
              "    border-radius: 50%;\n",
              "    cursor: pointer;\n",
              "    display: none;\n",
              "    fill: var(--fill-color);\n",
              "    height: 32px;\n",
              "    padding: 0;\n",
              "    width: 32px;\n",
              "  }\n",
              "\n",
              "  .colab-df-quickchart:hover {\n",
              "    background-color: var(--hover-bg-color);\n",
              "    box-shadow: 0 1px 2px rgba(60, 64, 67, 0.3), 0 1px 3px 1px rgba(60, 64, 67, 0.15);\n",
              "    fill: var(--button-hover-fill-color);\n",
              "  }\n",
              "\n",
              "  .colab-df-quickchart-complete:disabled,\n",
              "  .colab-df-quickchart-complete:disabled:hover {\n",
              "    background-color: var(--disabled-bg-color);\n",
              "    fill: var(--disabled-fill-color);\n",
              "    box-shadow: none;\n",
              "  }\n",
              "\n",
              "  .colab-df-spinner {\n",
              "    border: 2px solid var(--fill-color);\n",
              "    border-color: transparent;\n",
              "    border-bottom-color: var(--fill-color);\n",
              "    animation:\n",
              "      spin 1s steps(1) infinite;\n",
              "  }\n",
              "\n",
              "  @keyframes spin {\n",
              "    0% {\n",
              "      border-color: transparent;\n",
              "      border-bottom-color: var(--fill-color);\n",
              "      border-left-color: var(--fill-color);\n",
              "    }\n",
              "    20% {\n",
              "      border-color: transparent;\n",
              "      border-left-color: var(--fill-color);\n",
              "      border-top-color: var(--fill-color);\n",
              "    }\n",
              "    30% {\n",
              "      border-color: transparent;\n",
              "      border-left-color: var(--fill-color);\n",
              "      border-top-color: var(--fill-color);\n",
              "      border-right-color: var(--fill-color);\n",
              "    }\n",
              "    40% {\n",
              "      border-color: transparent;\n",
              "      border-right-color: var(--fill-color);\n",
              "      border-top-color: var(--fill-color);\n",
              "    }\n",
              "    60% {\n",
              "      border-color: transparent;\n",
              "      border-right-color: var(--fill-color);\n",
              "    }\n",
              "    80% {\n",
              "      border-color: transparent;\n",
              "      border-right-color: var(--fill-color);\n",
              "      border-bottom-color: var(--fill-color);\n",
              "    }\n",
              "    90% {\n",
              "      border-color: transparent;\n",
              "      border-bottom-color: var(--fill-color);\n",
              "    }\n",
              "  }\n",
              "</style>\n",
              "\n",
              "  <script>\n",
              "    async function quickchart(key) {\n",
              "      const quickchartButtonEl =\n",
              "        document.querySelector('#' + key + ' button');\n",
              "      quickchartButtonEl.disabled = true;  // To prevent multiple clicks.\n",
              "      quickchartButtonEl.classList.add('colab-df-spinner');\n",
              "      try {\n",
              "        const charts = await google.colab.kernel.invokeFunction(\n",
              "            'suggestCharts', [key], {});\n",
              "      } catch (error) {\n",
              "        console.error('Error during call to suggestCharts:', error);\n",
              "      }\n",
              "      quickchartButtonEl.classList.remove('colab-df-spinner');\n",
              "      quickchartButtonEl.classList.add('colab-df-quickchart-complete');\n",
              "    }\n",
              "    (() => {\n",
              "      let quickchartButtonEl =\n",
              "        document.querySelector('#df-1ca33393-c032-4c0e-8673-0cd56eaaf94d button');\n",
              "      quickchartButtonEl.style.display =\n",
              "        google.colab.kernel.accessAllowed ? 'block' : 'none';\n",
              "    })();\n",
              "  </script>\n",
              "</div>\n",
              "\n",
              "    </div>\n",
              "  </div>\n"
            ],
            "application/vnd.google.colaboratory.intrinsic+json": {
              "type": "dataframe",
              "variable_name": "data",
              "summary": "{\n  \"name\": \"data\",\n  \"rows\": 10841,\n  \"fields\": [\n    {\n      \"column\": \"App\",\n      \"properties\": {\n        \"dtype\": \"string\",\n        \"num_unique_values\": 9660,\n        \"samples\": [\n          \"Run R Script - Online Statistical Data Analysis\",\n          \"EURES - Your Job in Europe\",\n          \"Dog Licks Screen Wallpaper\"\n        ],\n        \"semantic_type\": \"\",\n        \"description\": \"\"\n      }\n    },\n    {\n      \"column\": \"Category\",\n      \"properties\": {\n        \"dtype\": \"category\",\n        \"num_unique_values\": 34,\n        \"samples\": [\n          \"LIBRARIES_AND_DEMO\",\n          \"MEDICAL\",\n          \"PRODUCTIVITY\"\n        ],\n        \"semantic_type\": \"\",\n        \"description\": \"\"\n      }\n    },\n    {\n      \"column\": \"Rating\",\n      \"properties\": {\n        \"dtype\": \"number\",\n        \"std\": 0.5374313031477587,\n        \"min\": 1.0,\n        \"max\": 19.0,\n        \"num_unique_values\": 40,\n        \"samples\": [\n          5.0,\n          3.4,\n          3.3\n        ],\n        \"semantic_type\": \"\",\n        \"description\": \"\"\n      }\n    },\n    {\n      \"column\": \"Reviews\",\n      \"properties\": {\n        \"dtype\": \"string\",\n        \"num_unique_values\": 6002,\n        \"samples\": [\n          \"66661\",\n          \"7479\",\n          \"8978\"\n        ],\n        \"semantic_type\": \"\",\n        \"description\": \"\"\n      }\n    },\n    {\n      \"column\": \"Size\",\n      \"properties\": {\n        \"dtype\": \"category\",\n        \"num_unique_values\": 462,\n        \"samples\": [\n          \"746k\",\n          \"9.4M\",\n          \"35M\"\n        ],\n        \"semantic_type\": \"\",\n        \"description\": \"\"\n      }\n    },\n    {\n      \"column\": \"Installs\",\n      \"properties\": {\n        \"dtype\": \"category\",\n        \"num_unique_values\": 22,\n        \"samples\": [\n          \"10,000+\",\n          \"50+\",\n          \"5,000+\"\n        ],\n        \"semantic_type\": \"\",\n        \"description\": \"\"\n      }\n    },\n    {\n      \"column\": \"Type\",\n      \"properties\": {\n        \"dtype\": \"category\",\n        \"num_unique_values\": 3,\n        \"samples\": [\n          \"Free\",\n          \"Paid\",\n          \"0\"\n        ],\n        \"semantic_type\": \"\",\n        \"description\": \"\"\n      }\n    },\n    {\n      \"column\": \"Price\",\n      \"properties\": {\n        \"dtype\": \"category\",\n        \"num_unique_values\": 93,\n        \"samples\": [\n          \"$17.99\",\n          \"$29.99\",\n          \"$37.99\"\n        ],\n        \"semantic_type\": \"\",\n        \"description\": \"\"\n      }\n    },\n    {\n      \"column\": \"Content Rating\",\n      \"properties\": {\n        \"dtype\": \"category\",\n        \"num_unique_values\": 6,\n        \"samples\": [\n          \"Everyone\",\n          \"Teen\",\n          \"Unrated\"\n        ],\n        \"semantic_type\": \"\",\n        \"description\": \"\"\n      }\n    },\n    {\n      \"column\": \"Genres\",\n      \"properties\": {\n        \"dtype\": \"category\",\n        \"num_unique_values\": 120,\n        \"samples\": [\n          \"Casual;Action & Adventure\",\n          \"Board\",\n          \"Auto & Vehicles\"\n        ],\n        \"semantic_type\": \"\",\n        \"description\": \"\"\n      }\n    },\n    {\n      \"column\": \"Last Updated\",\n      \"properties\": {\n        \"dtype\": \"category\",\n        \"num_unique_values\": 1378,\n        \"samples\": [\n          \"March 15, 2016\",\n          \"May 14, 2013\",\n          \"October 21, 2015\"\n        ],\n        \"semantic_type\": \"\",\n        \"description\": \"\"\n      }\n    },\n    {\n      \"column\": \"Current Ver\",\n      \"properties\": {\n        \"dtype\": \"category\",\n        \"num_unique_values\": 2832,\n        \"samples\": [\n          \"7.0.4.17908\",\n          \"1.2.5.4-11\",\n          \"2.5.7.1\"\n        ],\n        \"semantic_type\": \"\",\n        \"description\": \"\"\n      }\n    },\n    {\n      \"column\": \"Android Ver\",\n      \"properties\": {\n        \"dtype\": \"category\",\n        \"num_unique_values\": 33,\n        \"samples\": [\n          \"2.2 - 7.1.1\",\n          \"7.0 and up\",\n          \"3.1 and up\"\n        ],\n        \"semantic_type\": \"\",\n        \"description\": \"\"\n      }\n    }\n  ]\n}"
            }
          },
          "metadata": {},
          "execution_count": 5
        }
      ]
    },
    {
      "cell_type": "code",
      "source": [
        "# Data Cleaning\n",
        "\n",
        "# Fix Rating\n",
        "data['Rating'].fillna(data['Rating'].median(), inplace=True)\n",
        "\n",
        "# Print the data after fixing Rating\n",
        "print(\"\\nMissing values in 'Rating' after fixing:\")\n",
        "print(data['Rating'].isna().sum())"
      ],
      "metadata": {
        "colab": {
          "base_uri": "https://localhost:8080/"
        },
        "id": "S8SvQ0Thjb6N",
        "outputId": "01f55754-0cdc-445e-c1b4-f53ae49b6189"
      },
      "execution_count": 6,
      "outputs": [
        {
          "output_type": "stream",
          "name": "stdout",
          "text": [
            "\n",
            "Missing values in 'Rating' after fixing:\n",
            "0\n"
          ]
        }
      ]
    },
    {
      "cell_type": "code",
      "source": [
        "# Fix Size\n",
        "# Remove 'M' from the 'Size' column where applicable\n",
        "data['Size'] = data['Size'].astype(str).str.replace('M', '', regex=False) # Convert the column to string type before applying .str\n",
        "# Replace 'Varies with device' with NaN\n",
        "data['Size'] = data['Size'].replace('Varies with device', pd.NA)\n",
        "# Convert to numeric, handling errors\n",
        "data['Size'] = pd.to_numeric(data['Size'], errors='coerce')\n",
        "# Replace NaN values with the median size\n",
        "data['Size'].fillna(data['Size'].median(), inplace=True)\n",
        "\n",
        "# Print the data after fixing Size\n",
        "print(\"\\nData after fixing Size:\")\n",
        "print(\"\\nCount of remaining 'Varies with device':\")\n",
        "print(data['Size'].isna().sum())\n",
        "\n",
        "print(\"\\nCount of remaining non-numeric values:\")\n",
        "print((data['Size'] == 'Varies with device').sum())\n",
        "\n",
        "print(\"\\nCount of rows with valid numeric 'Size':\")\n",
        "print(pd.notna(data['Size']).sum())"
      ],
      "metadata": {
        "colab": {
          "base_uri": "https://localhost:8080/"
        },
        "id": "zURx83_ajdRN",
        "outputId": "8d96d723-b0f3-4e7f-e910-c51b69db372a"
      },
      "execution_count": 7,
      "outputs": [
        {
          "output_type": "stream",
          "name": "stdout",
          "text": [
            "\n",
            "Data after fixing Size:\n",
            "\n",
            "Count of remaining 'Varies with device':\n",
            "0\n",
            "\n",
            "Count of remaining non-numeric values:\n",
            "0\n",
            "\n",
            "Count of rows with valid numeric 'Size':\n",
            "10841\n"
          ]
        }
      ]
    },
    {
      "cell_type": "code",
      "source": [
        "# Fix Price\n",
        "# Remove '$' from the 'Price' column where applicable\n",
        "data['Price'] = data['Price'].str.replace('$', '', regex=False)\n",
        "# Convert to numeric, handling errors\n",
        "data['Price'] = pd.to_numeric(data['Price'], errors='coerce') # Non-numeric values will become NaN\n",
        "# Replace NaN values with the median price\n",
        "data['Price'].fillna(data['Price'].median(), inplace=True)\n",
        "\n",
        "\n",
        "print(\"\\nMissing values in 'Price' after fixing:\")\n",
        "print(data['Price'].isna().sum())\n",
        "\n",
        "# Print the data after fixing Price\n",
        "print(data[['Price']].head(10))"
      ],
      "metadata": {
        "colab": {
          "base_uri": "https://localhost:8080/"
        },
        "id": "MVqiyI6DjeXd",
        "outputId": "a281a83e-42a7-4ce3-9ed6-68ae2ee20961"
      },
      "execution_count": 8,
      "outputs": [
        {
          "output_type": "stream",
          "name": "stdout",
          "text": [
            "\n",
            "Missing values in 'Price' after fixing:\n",
            "0\n",
            "   Price\n",
            "0    0.0\n",
            "1    0.0\n",
            "2    0.0\n",
            "3    0.0\n",
            "4    0.0\n",
            "5    0.0\n",
            "6    0.0\n",
            "7    0.0\n",
            "8    0.0\n",
            "9    0.0\n"
          ]
        }
      ]
    },
    {
      "cell_type": "code",
      "source": [
        "# Fix Category\n",
        "# Replace NaN values with the most frequent category\n",
        "data['Category'].fillna(data['Category'].mode()[0], inplace=True)\n",
        "\n",
        "# Print the data after fixing Category\n",
        "print(\"\\nData after fixing Category:\")\n",
        "print(data[['Category']].head(10))"
      ],
      "metadata": {
        "colab": {
          "base_uri": "https://localhost:8080/"
        },
        "id": "pro3wY3Gjf2N",
        "outputId": "7e606a07-67f4-4eff-ace9-30a32c789271"
      },
      "execution_count": 9,
      "outputs": [
        {
          "output_type": "stream",
          "name": "stdout",
          "text": [
            "\n",
            "Data after fixing Category:\n",
            "         Category\n",
            "0  ART_AND_DESIGN\n",
            "1  ART_AND_DESIGN\n",
            "2  ART_AND_DESIGN\n",
            "3  ART_AND_DESIGN\n",
            "4  ART_AND_DESIGN\n",
            "5  ART_AND_DESIGN\n",
            "6  ART_AND_DESIGN\n",
            "7  ART_AND_DESIGN\n",
            "8  ART_AND_DESIGN\n",
            "9  ART_AND_DESIGN\n"
          ]
        }
      ]
    },
    {
      "cell_type": "code",
      "source": [
        "# Fix Android Ver\n",
        "# Replace NaN values with the most frequent Android version\n",
        "data['Android Ver'].fillna(data['Android Ver'].mode()[0], inplace=True)\n",
        "\n",
        "print(\"\\nMissing values in 'Category' after fixing:\")\n",
        "print(data['Category'].isna().sum())\n",
        "\n",
        "\n",
        "print(\"\\nData after fixing Category:\")\n",
        "print(data[['Category']].head(10))"
      ],
      "metadata": {
        "colab": {
          "base_uri": "https://localhost:8080/"
        },
        "id": "FRR6AToNjhGF",
        "outputId": "c26f3f9d-9fff-4400-ecf7-eb8bc17c7fe7"
      },
      "execution_count": 10,
      "outputs": [
        {
          "output_type": "stream",
          "name": "stdout",
          "text": [
            "\n",
            "Missing values in 'Category' after fixing:\n",
            "0\n",
            "\n",
            "Data after fixing Category:\n",
            "         Category\n",
            "0  ART_AND_DESIGN\n",
            "1  ART_AND_DESIGN\n",
            "2  ART_AND_DESIGN\n",
            "3  ART_AND_DESIGN\n",
            "4  ART_AND_DESIGN\n",
            "5  ART_AND_DESIGN\n",
            "6  ART_AND_DESIGN\n",
            "7  ART_AND_DESIGN\n",
            "8  ART_AND_DESIGN\n",
            "9  ART_AND_DESIGN\n"
          ]
        }
      ]
    },
    {
      "cell_type": "code",
      "source": [
        "# Work with missing values\n",
        "# Fill missing values in 'Reviews' and 'Installs' with 0\n",
        "data['Reviews'].fillna(0, inplace=True)\n",
        "data['Installs'].fillna(0, inplace=True)\n",
        "\n",
        "# Print the data after handling missing values\n",
        "print(\"\\nData after handling missing values:\")\n",
        "print(data[['Reviews', 'Installs']].head(10))"
      ],
      "metadata": {
        "colab": {
          "base_uri": "https://localhost:8080/"
        },
        "id": "oy5xuIWZjiRm",
        "outputId": "7bac8d18-5740-42f7-e5d1-5235d7bf6cbc"
      },
      "execution_count": 11,
      "outputs": [
        {
          "output_type": "stream",
          "name": "stdout",
          "text": [
            "\n",
            "Data after handling missing values:\n",
            "  Reviews     Installs\n",
            "0     159      10,000+\n",
            "1     967     500,000+\n",
            "2   87510   5,000,000+\n",
            "3  215644  50,000,000+\n",
            "4     967     100,000+\n",
            "5     167      50,000+\n",
            "6     178      50,000+\n",
            "7   36815   1,000,000+\n",
            "8   13791   1,000,000+\n",
            "9     121      10,000+\n"
          ]
        }
      ]
    },
    {
      "cell_type": "code",
      "source": [
        "# Work with outliers detecting and handling\n",
        "\n",
        "# Remove outliers in 'Rating' using IQR method\n",
        "Q1 = data['Rating'].quantile(0.25)\n",
        "Q3 = data['Rating'].quantile(0.75)\n",
        "IQR = Q3 - Q1\n",
        "lower_bound = Q1 - 1.5 * IQR\n",
        "upper_bound = Q3 + 1.5 * IQR\n",
        "data = data[~((data['Rating'] < lower_bound) | (data['Rating'] > upper_bound))]\n",
        "\n",
        "# Print the data after handling outliers\n",
        "print(\"\\nData after handling outliers:\")\n",
        "print(data[['Rating']].head(10))\n",
        "\n",
        "print(\"\\nNumber of rows before handling outliers:\", initial_row_count)"
      ],
      "metadata": {
        "colab": {
          "base_uri": "https://localhost:8080/"
        },
        "id": "XKtYIq-gjjyG",
        "outputId": "347d5cf0-4874-4af5-cf8c-6d481bb3b98e"
      },
      "execution_count": 30,
      "outputs": [
        {
          "output_type": "stream",
          "name": "stdout",
          "text": [
            "\n",
            "Data after handling outliers:\n",
            "   Rating\n",
            "0     4.1\n",
            "1     3.9\n",
            "2     4.7\n",
            "3     4.5\n",
            "4     4.3\n",
            "5     4.4\n",
            "6     3.8\n",
            "7     4.1\n",
            "8     4.4\n",
            "9     4.7\n",
            "\n",
            "Number of rows before handling outliers: 10841\n"
          ]
        }
      ]
    },
    {
      "cell_type": "code",
      "source": [
        "# Calculate and print the final row count\n",
        "final_row_count = data.shape[0]  # Calculate row count after outlier removal\n",
        "print(\"Number of rows after handling outliers:\", final_row_count)"
      ],
      "metadata": {
        "colab": {
          "base_uri": "https://localhost:8080/"
        },
        "id": "vH5pBTWKrTSl",
        "outputId": "020c8051-c750-455c-f20e-e18e01546084"
      },
      "execution_count": 14,
      "outputs": [
        {
          "output_type": "stream",
          "name": "stdout",
          "text": [
            "Number of rows after handling outliers: 10107\n"
          ]
        }
      ]
    },
    {
      "cell_type": "code",
      "source": [
        "# Fix anything need fix\n",
        "# Convert 'Installs' to string first before using string methods\n",
        "data['Installs'] = data['Installs'].astype(str)  # Convert to string type\n",
        "\n",
        "# Now you can use string methods\n",
        "data['Installs'] = data['Installs'].str.replace(',', '')\n",
        "data['Installs'] = data['Installs'].str.replace('+', '') # Remove '+' characters\n",
        "\n",
        "# Finally, convert 'Installs' to numeric\n",
        "data['Installs'] = data['Installs'].astype(int)\n",
        "\n",
        "print(\"\\nFinal Cleaned Data:\")\n",
        "print(data[['Installs']].head(10))"
      ],
      "metadata": {
        "colab": {
          "base_uri": "https://localhost:8080/"
        },
        "id": "BcmssO25jY4e",
        "outputId": "e7cca480-5566-4a4b-e87b-f1011a63c197"
      },
      "execution_count": 15,
      "outputs": [
        {
          "output_type": "stream",
          "name": "stdout",
          "text": [
            "\n",
            "Final Cleaned Data:\n",
            "   Installs\n",
            "0     10000\n",
            "1    500000\n",
            "2   5000000\n",
            "3  50000000\n",
            "4    100000\n",
            "5     50000\n",
            "6     50000\n",
            "7   1000000\n",
            "8   1000000\n",
            "9     10000\n"
          ]
        },
        {
          "output_type": "stream",
          "name": "stderr",
          "text": [
            "<ipython-input-15-98fdbc1cfd03>:3: SettingWithCopyWarning: \n",
            "A value is trying to be set on a copy of a slice from a DataFrame.\n",
            "Try using .loc[row_indexer,col_indexer] = value instead\n",
            "\n",
            "See the caveats in the documentation: https://pandas.pydata.org/pandas-docs/stable/user_guide/indexing.html#returning-a-view-versus-a-copy\n",
            "  data['Installs'] = data['Installs'].astype(str)  # Convert to string type\n",
            "<ipython-input-15-98fdbc1cfd03>:6: SettingWithCopyWarning: \n",
            "A value is trying to be set on a copy of a slice from a DataFrame.\n",
            "Try using .loc[row_indexer,col_indexer] = value instead\n",
            "\n",
            "See the caveats in the documentation: https://pandas.pydata.org/pandas-docs/stable/user_guide/indexing.html#returning-a-view-versus-a-copy\n",
            "  data['Installs'] = data['Installs'].str.replace(',', '')\n",
            "<ipython-input-15-98fdbc1cfd03>:7: SettingWithCopyWarning: \n",
            "A value is trying to be set on a copy of a slice from a DataFrame.\n",
            "Try using .loc[row_indexer,col_indexer] = value instead\n",
            "\n",
            "See the caveats in the documentation: https://pandas.pydata.org/pandas-docs/stable/user_guide/indexing.html#returning-a-view-versus-a-copy\n",
            "  data['Installs'] = data['Installs'].str.replace('+', '') # Remove '+' characters\n",
            "<ipython-input-15-98fdbc1cfd03>:10: SettingWithCopyWarning: \n",
            "A value is trying to be set on a copy of a slice from a DataFrame.\n",
            "Try using .loc[row_indexer,col_indexer] = value instead\n",
            "\n",
            "See the caveats in the documentation: https://pandas.pydata.org/pandas-docs/stable/user_guide/indexing.html#returning-a-view-versus-a-copy\n",
            "  data['Installs'] = data['Installs'].astype(int)\n"
          ]
        }
      ]
    },
    {
      "cell_type": "code",
      "source": [
        "# 1. Most Expensive App\n",
        "most_expensive_app = data[data['Price'] == data['Price'].max()]['App'].iloc[0]\n",
        "print(f\"The most expensive app is: {most_expensive_app}\")"
      ],
      "metadata": {
        "colab": {
          "base_uri": "https://localhost:8080/"
        },
        "id": "cHZdhGsYl0mM",
        "outputId": "b3603ca9-5683-4d1d-b5bb-2876fcae0c36"
      },
      "execution_count": 16,
      "outputs": [
        {
          "output_type": "stream",
          "name": "stdout",
          "text": [
            "The most expensive app is: I'm Rich - Trump Edition\n"
          ]
        }
      ]
    },
    {
      "cell_type": "code",
      "source": [
        "# 2. Genre with Most Apps\n",
        "genre_counts = data['Genres'].value_counts()\n",
        "most_common_genre = genre_counts.idxmax()\n",
        "print(f\"The genre with the most apps is: {most_common_genre}\")"
      ],
      "metadata": {
        "colab": {
          "base_uri": "https://localhost:8080/"
        },
        "id": "lyzBcgEJl16l",
        "outputId": "346b7e15-ae54-47f8-eae7-f1b2f583b084"
      },
      "execution_count": 17,
      "outputs": [
        {
          "output_type": "stream",
          "name": "stdout",
          "text": [
            "The genre with the most apps is: Tools\n"
          ]
        }
      ]
    },
    {
      "cell_type": "code",
      "source": [
        "# 3. Average Size of Free and Paid Apps\n",
        "average_free_size = data[data['Type'] == 'Free']['Size'].mean()\n",
        "average_paid_size = data[data['Type'] == 'Paid']['Size'].mean()\n",
        "print(f\"Average size of free apps: {average_free_size:.2f} MB\")\n",
        "print(f\"Average size of paid apps: {average_paid_size:.2f} MB\")"
      ],
      "metadata": {
        "colab": {
          "base_uri": "https://localhost:8080/"
        },
        "id": "xLVQaYlQl2_c",
        "outputId": "847fb0ee-f130-4e11-ca9a-834418c67209"
      },
      "execution_count": 18,
      "outputs": [
        {
          "output_type": "stream",
          "name": "stdout",
          "text": [
            "Average size of free apps: 21.11 MB\n",
            "Average size of paid apps: 20.35 MB\n"
          ]
        }
      ]
    },
    {
      "cell_type": "code",
      "source": [
        "# 4. Filter apps with Rating of 5 and sort by Price\n",
        "top_expensive_apps = data[data['Rating'] == 5].sort_values(by='Price', ascending=False).head(5)\n",
        "\n",
        "# Display the top 5 most expensive apps with a rating of 5\n",
        "print(\"Top 5 Most Expensive Apps with a Rating of 5:\")\n",
        "# Check if 'App' is the correct column name for the application name\n",
        "print(top_expensive_apps[['App', 'Price']])"
      ],
      "metadata": {
        "colab": {
          "base_uri": "https://localhost:8080/"
        },
        "id": "sdRFuSP1sIHD",
        "outputId": "a3bb1be6-197c-4796-94c5-d1da52228217"
      },
      "execution_count": 19,
      "outputs": [
        {
          "output_type": "stream",
          "name": "stdout",
          "text": [
            "Top 5 Most Expensive Apps with a Rating of 5:\n",
            "                                            App  Price\n",
            "5489                  AP Art History Flashcards  29.99\n",
            "7477                 USMLE Step 2 CK Flashcards  19.99\n",
            "5246                      Hey AJ! It's Bedtime!   4.99\n",
            "7204  TI-84 CE Graphing Calculator Manual TI 84   4.99\n",
            "5482                 meStudying: AP English Lit   4.99\n"
          ]
        }
      ]
    },
    {
      "cell_type": "code",
      "source": [
        "# 5. Count apps with more than 50K reviews\n",
        "# Convert 'Reviews' column to numeric, handling errors\n",
        "data['Reviews'] = pd.to_numeric(data['Reviews'], errors='coerce')\n",
        "count_apps_more_than_50k_reviews = data[data['Reviews'] > 50000].shape[0]\n",
        "\n",
        "# Display the count\n",
        "print(\"\\nNumber of apps with more than 50K reviews:\")\n",
        "print(count_apps_more_than_50k_reviews)"
      ],
      "metadata": {
        "colab": {
          "base_uri": "https://localhost:8080/"
        },
        "id": "WWU7KmMIsiMs",
        "outputId": "2ff1781d-f821-4637-951d-e71ed1a53048"
      },
      "execution_count": 21,
      "outputs": [
        {
          "output_type": "stream",
          "name": "stdout",
          "text": [
            "\n",
            "Number of apps with more than 50K reviews:\n",
            "2768\n"
          ]
        }
      ]
    },
    {
      "cell_type": "code",
      "source": [
        "# 6. Group by Genre and Installs, and calculate average price\n",
        "average_price_per_genre_installs = data.groupby(['Genres', 'Installs'])['Price'].mean().reset_index()\n",
        "\n",
        "# Display the result\n",
        "print(\"\\nAverage Price of Apps for Each Genre with Each Number of Installs:\")\n",
        "print(average_price_per_genre_installs)"
      ],
      "metadata": {
        "colab": {
          "base_uri": "https://localhost:8080/"
        },
        "id": "HySuE_PYsnkD",
        "outputId": "b305b3e7-9cd6-4a80-cdec-6bd97505f5ea"
      },
      "execution_count": 22,
      "outputs": [
        {
          "output_type": "stream",
          "name": "stdout",
          "text": [
            "\n",
            "Average Price of Apps for Each Genre with Each Number of Installs:\n",
            "     Genres  Installs     Price\n",
            "0    Action        10  0.000000\n",
            "1    Action        50  0.663333\n",
            "2    Action       100  0.247500\n",
            "3    Action       500  0.000000\n",
            "4    Action      1000  0.372500\n",
            "..      ...       ...       ...\n",
            "907    Word    100000  0.000000\n",
            "908    Word   1000000  0.000000\n",
            "909    Word   5000000  0.000000\n",
            "910    Word  10000000  0.000000\n",
            "911    Word  50000000  0.000000\n",
            "\n",
            "[912 rows x 3 columns]\n"
          ]
        }
      ]
    },
    {
      "cell_type": "code",
      "source": [
        "# 7. Apps with Rating > 4.7 and Average Price\n",
        "high_rated_apps = data[data['Rating'] > 4.7]\n",
        "count_high_rated = len(high_rated_apps)\n",
        "avg_price_high_rated = high_rated_apps['Price'].mean()\n",
        "print(f\"Number of apps with rating > 4.7: {count_high_rated}\")\n",
        "print(f\"Average price of apps with rating > 4.7: ${avg_price_high_rated:.2f}\")"
      ],
      "metadata": {
        "colab": {
          "base_uri": "https://localhost:8080/"
        },
        "id": "r0axOQIXtLQy",
        "outputId": "e2cb3d64-6fa0-4e0a-acfc-584dae3f6613"
      },
      "execution_count": 23,
      "outputs": [
        {
          "output_type": "stream",
          "name": "stdout",
          "text": [
            "Number of apps with rating > 4.7: 595\n",
            "Average price of apps with rating > 4.7: $0.50\n"
          ]
        }
      ]
    },
    {
      "cell_type": "code",
      "source": [
        "# 8. Google's Earnings from 5,000,000+ Installed Apps\n",
        "high_installed_apps = data[data['Installs'] > 5000000]\n",
        "google_earnings = high_installed_apps['Price'].sum()\n",
        "print(f\"\\nGoogle's earnings from apps with 5,000,000+ installs: ${google_earnings:.2f}\")"
      ],
      "metadata": {
        "colab": {
          "base_uri": "https://localhost:8080/"
        },
        "id": "CYATL0vWtJLC",
        "outputId": "97ece46f-c3e4-4211-9397-b44b4d98781f"
      },
      "execution_count": 24,
      "outputs": [
        {
          "output_type": "stream",
          "name": "stdout",
          "text": [
            "\n",
            "Google's earnings from apps with 5,000,000+ installs: $14.97\n"
          ]
        }
      ]
    },
    {
      "cell_type": "code",
      "source": [
        "# 9. Max and Min Size for Free and Paid Apps\n",
        "max_free_size = data[data['Type'] == 'Free']['Size'].max()\n",
        "min_free_size = data[data['Type'] == 'Free']['Size'].min()\n",
        "max_paid_size = data[data['Type'] == 'Paid']['Size'].max()\n",
        "min_paid_size = data[data['Type'] == 'Paid']['Size'].min()\n",
        "print(f\"\\nMax size of free apps: {max_free_size:.2f} MB\")\n",
        "print(f\"Min size of free apps: {min_free_size:.2f} MB\")\n",
        "print(f\"Max size of paid apps: {max_paid_size:.2f} MB\")\n",
        "print(f\"Min size of paid apps: {min_paid_size:.2f} MB\")"
      ],
      "metadata": {
        "colab": {
          "base_uri": "https://localhost:8080/"
        },
        "id": "xBKWD_5MtDlr",
        "outputId": "2bb1191b-d9d0-4428-afd0-7f9392093d8d"
      },
      "execution_count": 25,
      "outputs": [
        {
          "output_type": "stream",
          "name": "stdout",
          "text": [
            "\n",
            "Max size of free apps: 100.00 MB\n",
            "Min size of free apps: 1.00 MB\n",
            "Max size of paid apps: 100.00 MB\n",
            "Min size of paid apps: 1.00 MB\n"
          ]
        }
      ]
    },
    {
      "cell_type": "code",
      "source": [
        "# 10. Filter apps with Rating of 5 and sort by Price\n",
        "top_expensive_apps = data[data['Rating'] == 5].sort_values(by='Price', ascending=False).head(5)\n",
        "\n",
        "# Display the top 5 most expensive apps with a rating of 5\n",
        "print(\"Top 5 Most Expensive Apps with a Rating of 5:\")\n",
        "# Check if 'App' is the correct column name for the application name\n",
        "print(top_expensive_apps[['App', 'Price']])"
      ],
      "metadata": {
        "colab": {
          "base_uri": "https://localhost:8080/"
        },
        "id": "bHayBb8bt1cK",
        "outputId": "914ec344-05ff-4074-8d06-3e4e2ecb4ce2"
      },
      "execution_count": 26,
      "outputs": [
        {
          "output_type": "stream",
          "name": "stdout",
          "text": [
            "Top 5 Most Expensive Apps with a Rating of 5:\n",
            "                                            App  Price\n",
            "5489                  AP Art History Flashcards  29.99\n",
            "7477                 USMLE Step 2 CK Flashcards  19.99\n",
            "5246                      Hey AJ! It's Bedtime!   4.99\n",
            "7204  TI-84 CE Graphing Calculator Manual TI 84   4.99\n",
            "5482                 meStudying: AP English Lit   4.99\n"
          ]
        }
      ]
    },
    {
      "cell_type": "code",
      "source": [
        "# 11. Number of Apps for Each Type and Content Rating\n",
        "type_rating_counts = data.groupby(['Type', 'Content Rating'])['App'].count().reset_index()\n",
        "print(\"\\nNumber of Apps for Each Type and Content Rating:\")\n",
        "print(type_rating_counts)"
      ],
      "metadata": {
        "colab": {
          "base_uri": "https://localhost:8080/"
        },
        "id": "lHTZyj7rt3Jq",
        "outputId": "c76bebc0-d83a-42c5-cd7f-8308031691e3"
      },
      "execution_count": 27,
      "outputs": [
        {
          "output_type": "stream",
          "name": "stdout",
          "text": [
            "\n",
            "Number of Apps for Each Type and Content Rating:\n",
            "   Type   Content Rating   App\n",
            "0  Free  Adults only 18+     3\n",
            "1  Free         Everyone  7435\n",
            "2  Free     Everyone 10+   370\n",
            "3  Free       Mature 17+   440\n",
            "4  Free             Teen  1108\n",
            "5  Free          Unrated     2\n",
            "6  Paid         Everyone   646\n",
            "7  Paid     Everyone 10+    31\n",
            "8  Paid       Mature 17+    20\n",
            "9  Paid             Teen    51\n"
          ]
        }
      ]
    },
    {
      "cell_type": "code",
      "source": [
        "# 12. Number of Apps Compatible with Android Version 4\n",
        "android_version_4_apps = data[data['Android Ver'].str.startswith('4.')]\n",
        "count_android_version_4 = len(android_version_4_apps)\n",
        "print(f\"\\nNumber of apps compatible with Android Version 4: {count_android_version_4}\")"
      ],
      "metadata": {
        "colab": {
          "base_uri": "https://localhost:8080/"
        },
        "id": "w_GbuqhUt4aS",
        "outputId": "707c4e56-cc2c-44ee-c181-4f3196975caa"
      },
      "execution_count": 28,
      "outputs": [
        {
          "output_type": "stream",
          "name": "stdout",
          "text": [
            "\n",
            "Number of apps compatible with Android Version 4: 6495\n"
          ]
        }
      ]
    }
  ]
}